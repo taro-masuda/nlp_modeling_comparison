{
 "cells": [
  {
   "cell_type": "code",
   "execution_count": null,
   "metadata": {},
   "outputs": [],
   "source": []
  },
  {
   "cell_type": "code",
   "execution_count": 42,
   "metadata": {
    "executionInfo": {
     "elapsed": 297,
     "status": "ok",
     "timestamp": 1638709754010,
     "user": {
      "displayName": "Taro Masuda",
      "photoUrl": "https://lh3.googleusercontent.com/a-/AOh14Gha2_6ywyDdY4z-pETQaaMunU-EElHVungyUQvb=s64",
      "userId": "07311423760250806954"
     },
     "user_tz": -540
    },
    "id": "Q4ev3S1eyeQA"
   },
   "outputs": [],
   "source": [
    "import pandas as pd\n",
    "import numpy as np\n",
    "import matplotlib.pyplot as plt\n",
    "import gc\n",
    "\n",
    "from sklearn.linear_model import LogisticRegression\n",
    "from sklearn.model_selection import StratifiedKFold\n",
    "from sklearn.feature_extraction.text import CountVectorizer,TfidfVectorizer\n",
    "from sklearn.decomposition import TruncatedSVD\n",
    "from sklearn.metrics import log_loss,confusion_matrix,classification_report,roc_curve,auc,accuracy_score,roc_auc_score\n",
    "\n",
    "import string\n",
    "import nltk\n",
    "from nltk.corpus import stopwords\n",
    "from nltk.tokenize import word_tokenize\n",
    "from scipy import sparse\n",
    "%matplotlib inline\n",
    "seed = 42\n",
    "import os\n",
    "os.environ['OMP_NUM_THREADS'] = '4'"
   ]
  },
  {
   "cell_type": "code",
   "execution_count": 3,
   "metadata": {
    "colab": {
     "base_uri": "https://localhost:8080/"
    },
    "executionInfo": {
     "elapsed": 43049,
     "status": "ok",
     "timestamp": 1638704665365,
     "user": {
      "displayName": "Taro Masuda",
      "photoUrl": "https://lh3.googleusercontent.com/a-/AOh14Gha2_6ywyDdY4z-pETQaaMunU-EElHVungyUQvb=s64",
      "userId": "07311423760250806954"
     },
     "user_tz": -540
    },
    "id": "rcChSccXyqFl",
    "outputId": "a7f37458-f8b7-4d1a-8cac-1f126ef3bd8b"
   },
   "outputs": [],
   "source": [
    "#!wget https://archive.ics.uci.edu/ml/machine-learning-databases/00359/NewsAggregatorDataset.zip\n",
    "#!unzip NewsAggregatorDataset.zip"
   ]
  },
  {
   "cell_type": "code",
   "execution_count": 4,
   "metadata": {
    "executionInfo": {
     "elapsed": 1271,
     "status": "ok",
     "timestamp": 1638704666622,
     "user": {
      "displayName": "Taro Masuda",
      "photoUrl": "https://lh3.googleusercontent.com/a-/AOh14Gha2_6ywyDdY4z-pETQaaMunU-EElHVungyUQvb=s64",
      "userId": "07311423760250806954"
     },
     "user_tz": -540
    },
    "id": "GGH4hIPzyvTM"
   },
   "outputs": [],
   "source": [
    "# 読込時のエラー回避のためダブルクォーテーションをシングルクォーテーションに置換\n",
    "#!sed -e 's/\"/'\\''/g' ./newsCorpora.csv > ./newsCorpora_re.csv"
   ]
  },
  {
   "cell_type": "code",
   "execution_count": 6,
   "metadata": {
    "colab": {
     "base_uri": "https://localhost:8080/"
    },
    "executionInfo": {
     "elapsed": 8501,
     "status": "ok",
     "timestamp": 1638704680534,
     "user": {
      "displayName": "Taro Masuda",
      "photoUrl": "https://lh3.googleusercontent.com/a-/AOh14Gha2_6ywyDdY4z-pETQaaMunU-EElHVungyUQvb=s64",
      "userId": "07311423760250806954"
     },
     "user_tz": -540
    },
    "id": "Sckf5Nx1yzUx",
    "outputId": "7ab14d83-3de5-4169-fe27-dd2497e76e9a"
   },
   "outputs": [
    {
     "name": "stdout",
     "output_type": "stream",
     "text": [
      "                                               TITLE CATEGORY\n",
      "0  REFILE-UPDATE 1-European car sales up for sixt...        b\n",
      "1  Amazon Plans to Fight FTC Over Mobile-App Purc...        t\n",
      "2  Kids Still Get Codeine In Emergency Rooms Desp...        m\n",
      "3  What On Earth Happened Between Solange And Jay...        e\n",
      "4  NATO Missile Defense Is Flight Tested Over Hawaii        b\n"
     ]
    }
   ],
   "source": [
    "import pandas as pd\n",
    "from sklearn.model_selection import train_test_split\n",
    "\n",
    "# データの読込\n",
    "df = pd.read_csv('./input/newsCorpora_re.csv', header=None, sep='\\t', names=['ID', 'TITLE', 'URL', 'PUBLISHER', 'CATEGORY', 'STORY', 'HOSTNAME', 'TIMESTAMP'])\n",
    "\n",
    "# データの抽出\n",
    "df = df.loc[df['PUBLISHER'].isin(['Reuters', 'Huffington Post', 'Businessweek', 'Contactmusic.com', 'Daily Mail']), ['TITLE', 'CATEGORY']]\n",
    "\n",
    "# データの分割\n",
    "df_train, df_valid_test = train_test_split(df, test_size=0.2, shuffle=True, random_state=123, stratify=df['CATEGORY'])\n",
    "df_valid, df_test = train_test_split(df_valid_test, test_size=0.5, shuffle=True, random_state=123, stratify=df_valid_test['CATEGORY'])\n",
    "df_train.reset_index(drop=True, inplace=True)\n",
    "df_valid.reset_index(drop=True, inplace=True)\n",
    "df_test.reset_index(drop=True, inplace=True)\n",
    "\n",
    "print(df_train.head())"
   ]
  },
  {
   "cell_type": "code",
   "execution_count": 7,
   "metadata": {
    "executionInfo": {
     "elapsed": 272,
     "status": "ok",
     "timestamp": 1638704686203,
     "user": {
      "displayName": "Taro Masuda",
      "photoUrl": "https://lh3.googleusercontent.com/a-/AOh14Gha2_6ywyDdY4z-pETQaaMunU-EElHVungyUQvb=s64",
      "userId": "07311423760250806954"
     },
     "user_tz": -540
    },
    "id": "qvJbviTdy2l2"
   },
   "outputs": [],
   "source": [
    "vect_word = TfidfVectorizer(max_features=20000, lowercase=True, analyzer='word',\n",
    "                        stop_words= None,ngram_range=(1,3),dtype=np.float32)\n",
    "vect_char = TfidfVectorizer(max_features=40000, lowercase=True, analyzer='char',\n",
    "                        stop_words= None,ngram_range=(3,6),dtype=np.float32)"
   ]
  },
  {
   "cell_type": "code",
   "execution_count": 8,
   "metadata": {
    "colab": {
     "base_uri": "https://localhost:8080/"
    },
    "executionInfo": {
     "elapsed": 5743,
     "status": "ok",
     "timestamp": 1638710366978,
     "user": {
      "displayName": "Taro Masuda",
      "photoUrl": "https://lh3.googleusercontent.com/a-/AOh14Gha2_6ywyDdY4z-pETQaaMunU-EElHVungyUQvb=s64",
      "userId": "07311423760250806954"
     },
     "user_tz": -540
    },
    "id": "neiKxlHhzA1o",
    "outputId": "cd734edd-40b8-4840-e9eb-112e29938fc8"
   },
   "outputs": [
    {
     "data": {
      "text/plain": [
       "12"
      ]
     },
     "execution_count": 8,
     "metadata": {},
     "output_type": "execute_result"
    }
   ],
   "source": [
    "# Word ngram vector\n",
    "tr_vect = vect_word.fit_transform(df_train['TITLE'])\n",
    "vl_vect = vect_word.transform(df_valid['TITLE'])\n",
    "ts_vect = vect_word.transform(df_test['TITLE'])\n",
    "\n",
    "# Character n gram vector\n",
    "tr_vect_char = vect_char.fit_transform(df_train['TITLE'])\n",
    "vl_vect_char = vect_char.transform(df_valid['TITLE'])\n",
    "ts_vect_char = vect_char.transform(df_test['TITLE'])\n",
    "gc.collect()"
   ]
  },
  {
   "cell_type": "code",
   "execution_count": 9,
   "metadata": {
    "executionInfo": {
     "elapsed": 262,
     "status": "ok",
     "timestamp": 1638710376888,
     "user": {
      "displayName": "Taro Masuda",
      "photoUrl": "https://lh3.googleusercontent.com/a-/AOh14Gha2_6ywyDdY4z-pETQaaMunU-EElHVungyUQvb=s64",
      "userId": "07311423760250806954"
     },
     "user_tz": -540
    },
    "id": "ZtfPB_2RzG7c"
   },
   "outputs": [],
   "source": [
    "X = sparse.hstack([tr_vect, tr_vect_char])\n",
    "x_val = sparse.hstack([vl_vect, vl_vect_char])\n",
    "x_test = sparse.hstack([ts_vect, ts_vect_char])"
   ]
  },
  {
   "cell_type": "code",
   "execution_count": 10,
   "metadata": {
    "executionInfo": {
     "elapsed": 301,
     "status": "ok",
     "timestamp": 1638704833258,
     "user": {
      "displayName": "Taro Masuda",
      "photoUrl": "https://lh3.googleusercontent.com/a-/AOh14Gha2_6ywyDdY4z-pETQaaMunU-EElHVungyUQvb=s64",
      "userId": "07311423760250806954"
     },
     "user_tz": -540
    },
    "id": "3Rg8ic2wz5Bz"
   },
   "outputs": [],
   "source": [
    "# Onehot encoding\n",
    "from sklearn.preprocessing import OneHotEncoder\n",
    "ohe = OneHotEncoder()\n"
   ]
  },
  {
   "cell_type": "code",
   "execution_count": 60,
   "metadata": {
    "colab": {
     "base_uri": "https://localhost:8080/"
    },
    "executionInfo": {
     "elapsed": 35042,
     "status": "ok",
     "timestamp": 1638710995067,
     "user": {
      "displayName": "Taro Masuda",
      "photoUrl": "https://lh3.googleusercontent.com/a-/AOh14Gha2_6ywyDdY4z-pETQaaMunU-EElHVungyUQvb=s64",
      "userId": "07311423760250806954"
     },
     "user_tz": -540
    },
    "id": "qs1CcX1FzM5o",
    "outputId": "f04b00af-11bd-4146-9e3a-47dd7803812c"
   },
   "outputs": [
    {
     "data": {
      "text/plain": [
       "71"
      ]
     },
     "execution_count": 60,
     "metadata": {},
     "output_type": "execute_result"
    }
   ],
   "source": [
    "target_col = ['CATEGORY']\n",
    "y_tr = ohe.fit_transform(df_train[target_col]).toarray()\n",
    "y_vl = ohe.transform(df_valid[target_col]).toarray()\n",
    "y_te = ohe.transform(df_test[target_col]).toarray()\n",
    "#del tr_vect, ts_vect, tr_vect_char, ts_vect_char\n",
    "gc.collect()"
   ]
  },
  {
   "cell_type": "code",
   "execution_count": 61,
   "metadata": {
    "colab": {
     "base_uri": "https://localhost:8080/"
    },
    "executionInfo": {
     "elapsed": 497,
     "status": "ok",
     "timestamp": 1638710998582,
     "user": {
      "displayName": "Taro Masuda",
      "photoUrl": "https://lh3.googleusercontent.com/a-/AOh14Gha2_6ywyDdY4z-pETQaaMunU-EElHVungyUQvb=s64",
      "userId": "07311423760250806954"
     },
     "user_tz": -540
    },
    "id": "rytyC6oSfAQJ",
    "outputId": "989f3f50-8df7-49e1-dd4c-59eb2a7cc715"
   },
   "outputs": [
    {
     "data": {
      "text/plain": [
       "(1336, 4)"
      ]
     },
     "execution_count": 61,
     "metadata": {},
     "output_type": "execute_result"
    }
   ],
   "source": [
    "y_vl.shape"
   ]
  },
  {
   "cell_type": "code",
   "execution_count": 62,
   "metadata": {
    "colab": {
     "base_uri": "https://localhost:8080/"
    },
    "executionInfo": {
     "elapsed": 6508,
     "status": "ok",
     "timestamp": 1638711009691,
     "user": {
      "displayName": "Taro Masuda",
      "photoUrl": "https://lh3.googleusercontent.com/a-/AOh14Gha2_6ywyDdY4z-pETQaaMunU-EElHVungyUQvb=s64",
      "userId": "07311423760250806954"
     },
     "user_tz": -540
    },
    "id": "THp9SHo_zQpz",
    "outputId": "3d9fa479-e568-463a-fa03-30005b5406bc"
   },
   "outputs": [
    {
     "name": "stdout",
     "output_type": "stream",
     "text": [
      "Building 0 model for column:0\n",
      "Building 1 model for column:1\n",
      "Building 2 model for column:2\n",
      "Building 3 model for column:3\n"
     ]
    }
   ],
   "source": [
    "prd_val = np.zeros((x_test.shape[0],y_tr.shape[1]))\n",
    "prd = np.zeros((x_test.shape[0],y_te.shape[1]))\n",
    "cv_score =[]\n",
    "models = []\n",
    "for i,col in enumerate(range(4)):\n",
    "    model = LogisticRegression()\n",
    "    print('Building {} model for column:{''}'.format(i,col)) \n",
    "    model.fit(X,y_tr[:,i])\n",
    "    #cv_score.append(lr.score)\n",
    "    prd[:,i] = model.predict_proba(x_test)[:,1]\n",
    "    \n",
    "    prd_val[:,i] = model.predict_proba(x_val)[:,1]\n",
    "    \n",
    "    models.append(model)"
   ]
  },
  {
   "cell_type": "code",
   "execution_count": 63,
   "metadata": {},
   "outputs": [
    {
     "data": {
      "text/plain": [
       "(1336, 4)"
      ]
     },
     "execution_count": 63,
     "metadata": {},
     "output_type": "execute_result"
    }
   ],
   "source": [
    "prd_val.shape"
   ]
  },
  {
   "cell_type": "code",
   "execution_count": 72,
   "metadata": {
    "colab": {
     "base_uri": "https://localhost:8080/"
    },
    "executionInfo": {
     "elapsed": 507,
     "status": "ok",
     "timestamp": 1638711012645,
     "user": {
      "displayName": "Taro Masuda",
      "photoUrl": "https://lh3.googleusercontent.com/a-/AOh14Gha2_6ywyDdY4z-pETQaaMunU-EElHVungyUQvb=s64",
      "userId": "07311423760250806954"
     },
     "user_tz": -540
    },
    "id": "Iw-Hi2pCvg4I",
    "outputId": "7bb73e62-6d75-4a94-c876-22acb564d03c"
   },
   "outputs": [
    {
     "name": "stdout",
     "output_type": "stream",
     "text": [
      "0.8974550898203593\n",
      "0.8959580838323353\n"
     ]
    }
   ],
   "source": [
    "pred_vl = np.argmax(prd_val, axis=1)\n",
    "y_vl_argmax = np.argmax(y_vl, axis=1)\n",
    "pred_te = np.argmax(prd, axis=1)\n",
    "y_te_argmax = np.argmax(y_te, axis=1)\n",
    "\n",
    "print((pred_vl == y_vl_argmax).sum() / pred_vl.shape[0])\n",
    "print((pred_te == y_te_argmax).sum() / pred_te.shape[0])"
   ]
  },
  {
   "cell_type": "code",
   "execution_count": 73,
   "metadata": {},
   "outputs": [
    {
     "data": {
      "text/plain": [
       "(1336, 4)"
      ]
     },
     "execution_count": 73,
     "metadata": {},
     "output_type": "execute_result"
    }
   ],
   "source": [
    "y_vl.shape"
   ]
  },
  {
   "cell_type": "code",
   "execution_count": 74,
   "metadata": {},
   "outputs": [
    {
     "data": {
      "text/plain": [
       "(1336,)"
      ]
     },
     "execution_count": 74,
     "metadata": {},
     "output_type": "execute_result"
    }
   ],
   "source": [
    "y_vl_argmax.shape"
   ]
  },
  {
   "cell_type": "code",
   "execution_count": 80,
   "metadata": {
    "id": "7h-4diXQoNAn"
   },
   "outputs": [
    {
     "name": "stdout",
     "output_type": "stream",
     "text": [
      "0.9758\n",
      "0.3873\n",
      "0.9829\n",
      "0.3672\n"
     ]
    }
   ],
   "source": [
    "# 検証データを予測する\n",
    "print('{:.4f}'.format(roc_auc_score(y_vl, prd_val, multi_class='ovo')))\n",
    "print('{:.4f}'.format(log_loss(y_vl, prd_val)))\n",
    "\n",
    "# 評価データを予測する\n",
    "print('{:.4f}'.format(roc_auc_score(y_te, prd, multi_class='ovo')))\n",
    "print('{:.4f}'.format(log_loss(y_te, prd)))"
   ]
  },
  {
   "cell_type": "code",
   "execution_count": null,
   "metadata": {},
   "outputs": [],
   "source": []
  }
 ],
 "metadata": {
  "colab": {
   "authorship_tag": "ABX9TyPFxbeA6deWgFoTWHqZk6KM",
   "collapsed_sections": [],
   "name": "TFIDF_LogReg.ipynb",
   "provenance": []
  },
  "kernelspec": {
   "display_name": "Python 3 (ipykernel)",
   "language": "python",
   "name": "python3"
  },
  "language_info": {
   "codemirror_mode": {
    "name": "ipython",
    "version": 3
   },
   "file_extension": ".py",
   "mimetype": "text/x-python",
   "name": "python",
   "nbconvert_exporter": "python",
   "pygments_lexer": "ipython3",
   "version": "3.8.12"
  }
 },
 "nbformat": 4,
 "nbformat_minor": 1
}
